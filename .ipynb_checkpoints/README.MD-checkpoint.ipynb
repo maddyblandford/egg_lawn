{
 "cells": [
  {
   "cell_type": "markdown",
   "metadata": {},
   "source": [
    "# The Egg Lawn at the Parklands of Floyds Fork"
   ]
  },
  {
   "cell_type": "markdown",
   "metadata": {},
   "source": [
    "![egg_lawn](graphics/egg_lawn.jpg)\n",
    "*Aerial view of the Egg Lawn at the Beckley Creek Park*"
   ]
  },
  {
   "cell_type": "markdown",
   "metadata": {},
   "source": [
    "## Introduction "
   ]
  },
  {
   "cell_type": "markdown",
   "metadata": {},
   "source": [
    "It is located inside Beckley Creek Park in Louisville, KY. The Egg Lawn alone is 22 acres. Construction started on the parks in 2011 and opened in November 2012. It is just one small part of four major parks in Louisville all connected by a park drive, a trail system, and a water trail. A quick summary of the master plan of the Parklands includes:\n",
    "- 100 miles of trails for biking, walking, etc.\n",
    "- 19 miles for canoeing on the Floyds Fork Creek\n",
    "- Locations to host events such as the PNC Achievement Center and the Gheens Foundation Lodge which are both located next to the Egg Lawn\n",
    "- Playgrounds and sprayground for families\n",
    "- Dog parks called the \"Barklands\""
   ]
  },
  {
   "cell_type": "markdown",
   "metadata": {},
   "source": [
    "## Area around the Egg Lawn"
   ]
  },
  {
   "cell_type": "markdown",
   "metadata": {},
   "source": [
    "### Base Map"
   ]
  },
  {
   "cell_type": "markdown",
   "metadata": {},
   "source": [
    "### Video Exploration\n",
    "This video shows an animated point cloud of the Egg Lawn path and surrounding areas. The camera flows and aerial view around the park then moves to surrounding locations such as the \"Barklands\", the Gheens Foundation Lodge, and the PNC Achievement Center"
   ]
  },
  {
   "cell_type": "markdown",
   "metadata": {},
   "source": [
    "![egg lawn]\n",
    "*Video Exploration of the park (Watch video)*"
   ]
  },
  {
   "cell_type": "markdown",
   "metadata": {},
   "source": [
    "## Photographs"
   ]
  },
  {
   "cell_type": "markdown",
   "metadata": {},
   "source": [
    "![side_view.jpg](graphics/side_view.jpg)\n",
    "*This image gives a side view of the Egg Lawn. In this frame, it also shows the sprayground, achievement center, and the foundation lodge.*"
   ]
  },
  {
   "cell_type": "markdown",
   "metadata": {},
   "source": [
    "![closer_look.jpg](graphics/closer_look.jpg)\n",
    "*This photogrpah gives a closer look of the Egg Lawn. You are able to see both the parking lot and the path surrounding the lawn.*"
   ]
  },
  {
   "cell_type": "markdown",
   "metadata": {},
   "source": [
    "## Sources and Tools"
   ]
  },
  {
   "cell_type": "markdown",
   "metadata": {},
   "source": [
    "This project was created by Maddy Blandford, a senior graduating with a Bachelor's of Arts in Geography with minors in GIS/Mapping and International Studies. It was made for a class called GEO 409: Advanced GIS at the University of Kentucky Department of Geography. The date of analysis started on December 10, 2019.\n",
    "\n",
    "Color aerial imagery was found on the Louisville/Jefferson County Information Consortium (LOJIC) stored on public FTP server which is maintained by multiple agencies in Louisville, Kentucky such as the local government, the Metropolitan Sewer District (MSD), the Property Valuation Administration (PVA), and the Louisville Water Company. \n",
    "\n",
    "ArcGIS Pro lidar and digital surfaced model tools were used to process and analyze the data. "
   ]
  },
  {
   "cell_type": "code",
   "execution_count": null,
   "metadata": {},
   "outputs": [],
   "source": []
  }
 ],
 "metadata": {
  "kernelspec": {
   "display_name": "Python 3",
   "language": "python",
   "name": "python3"
  },
  "language_info": {
   "codemirror_mode": {
    "name": "ipython",
    "version": 3
   },
   "file_extension": ".py",
   "mimetype": "text/x-python",
   "name": "python",
   "nbconvert_exporter": "python",
   "pygments_lexer": "ipython3",
   "version": "3.6.8"
  }
 },
 "nbformat": 4,
 "nbformat_minor": 2
}
